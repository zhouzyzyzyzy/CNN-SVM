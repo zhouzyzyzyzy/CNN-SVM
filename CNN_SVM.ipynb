{
 "cells": [
  {
   "cell_type": "code",
   "execution_count": 35,
   "metadata": {},
   "outputs": [],
   "source": [
    "import tensorflow as tf \n",
    "from tensorflow.keras import models,layers\n",
    "import numpy as np\n",
    "import pandas as pd"
   ]
  },
  {
   "cell_type": "code",
   "execution_count": 36,
   "metadata": {},
   "outputs": [],
   "source": [
    "num_classes = 10\n",
    "\n",
    "learning_rate = 0.001\n",
    "training_steps = 200\n",
    "batch_size = 100\n",
    "display_step = 10\n",
    "\n",
    "conv1_filters = 32 # number of filters for 1st conv layer.\n",
    "conv2_filters = 64 # number of filters for 2nd conv layer.\n",
    "fc1_units = 1024 # number of neurons for 1st fully-connected layer."
   ]
  },
  {
   "cell_type": "code",
   "execution_count": 37,
   "metadata": {},
   "outputs": [],
   "source": [
    "from tensorflow.keras.datasets import mnist\n",
    "(x_train, y_train), (x_test, y_test) = mnist.load_data()\n",
    "# Convert to float32.\n",
    "x_train, x_test = np.array(x_train, np.float32), np.array(x_test, np.float32)\n",
    "# Normalize images value from [0, 255] to [0, 1].\n",
    "x_train, x_test = x_train / 255., x_test / 255.\n",
    "\n",
    "train_data = tf.data.Dataset.from_tensor_slices((x_train, y_train))\n",
    "train_data = train_data.repeat().shuffle(5000).batch(batch_size).prefetch(1)"
   ]
  },
  {
   "cell_type": "code",
   "execution_count": 38,
   "metadata": {},
   "outputs": [],
   "source": [
    "random_normal = tf.initializers.RandomNormal()\n",
    "\n",
    "weights = {\n",
    "    # Conv Layer 1: 5x5 conv, 1 input, 32 filters (MNIST has 1 color channel only).\n",
    "    'wc1': tf.Variable(random_normal([5, 5, 1, conv1_filters])),\n",
    "    # Conv Layer 2: 5x5 conv, 32 inputs, 64 filters.\n",
    "    'wc2': tf.Variable(random_normal([5, 5, conv1_filters, conv2_filters])),\n",
    "    # FC Layer 1: 7*7*64 inputs, 1024 units.\n",
    "    'wd1': tf.Variable(random_normal([7*7*64, fc1_units])),\n",
    "    # FC Out Layer: 1024 inputs, 10 units (total number of classes)\n",
    "    'out': tf.Variable(random_normal([fc1_units, num_classes]))\n",
    "}\n",
    "\n",
    "biases = {\n",
    "    'bc1': tf.Variable(tf.zeros([conv1_filters])),\n",
    "    'bc2': tf.Variable(tf.zeros([conv2_filters])),\n",
    "    'bd1': tf.Variable(tf.zeros([fc1_units])),\n",
    "    'out': tf.Variable(tf.zeros([num_classes]))\n",
    "}"
   ]
  },
  {
   "cell_type": "code",
   "execution_count": 39,
   "metadata": {},
   "outputs": [],
   "source": [
    "def conv2d(x, W, b, strides=1):\n",
    "    # Conv2D wrapper, with bias and relu activation.\n",
    "    x = tf.nn.conv2d(x, W, strides=[1, strides, strides, 1], padding='SAME')\n",
    "    x = tf.nn.bias_add(x, b)\n",
    "    return tf.nn.relu(x)\n",
    "\n",
    "def maxpool2d(x, k=2):\n",
    "    # MaxPool2D wrapper.\n",
    "    return tf.nn.max_pool(x, ksize=[1, k, k, 1], strides=[1, k, k, 1], padding='SAME')\n",
    "# ADAM optimizer.\n",
    "optimizer = tf.optimizers.Adam(learning_rate)\n",
    "\n",
    "def run_optimization(x, y):\n",
    "    with tf.GradientTape() as g:\n",
    "        pred = conv_net(x)\n",
    "        loss = cross_entropy(pred, y)\n",
    "    trainable_variables = list(weights.values()) + list(biases.values())\n",
    "    gradients = g.gradient(loss, trainable_variables)\n",
    "    optimizer.apply_gradients(zip(gradients, trainable_variables))"
   ]
  },
  {
   "cell_type": "code",
   "execution_count": 40,
   "metadata": {},
   "outputs": [],
   "source": [
    "def conv_net(x):\n",
    "    \n",
    "    # Input shape: [-1, 28, 28, 1]. A batch of 28x28x1 (grayscale) images.\n",
    "    x = tf.reshape(x, [-1, 28, 28, 1])\n",
    "\n",
    "    # Convolution Layer. Output shape: [-1, 28, 28, 32].\n",
    "    conv1 = conv2d(x, weights['wc1'], biases['bc1'])\n",
    "    \n",
    "    # Max Pooling (down-sampling). Output shape: [-1, 14, 14, 32].\n",
    "    conv1 = maxpool2d(conv1, k=2)\n",
    "\n",
    "    # Convolution Layer. Output shape: [-1, 14, 14, 64].\n",
    "    conv2 = conv2d(conv1, weights['wc2'], biases['bc2'])\n",
    "    \n",
    "    # Max Pooling (down-sampling). Output shape: [-1, 7, 7, 64].\n",
    "    conv2 = maxpool2d(conv2, k=2)\n",
    "    # Reshape conv2 output to fit fully connected layer input, Output shape: [-1, 7*7*64].\n",
    "    fc1 = tf.reshape(conv2, [-1, weights['wd1'].get_shape().as_list()[0]])\n",
    "    \n",
    "    # Fully connected layer, Output shape: [-1, 1024].\n",
    "    fc1 = tf.add(tf.matmul(fc1, weights['wd1']), biases['bd1'])\n",
    "    # Apply ReLU to fc1 output for non-linearity.\n",
    "    fc1 = tf.nn.relu(fc1)\n",
    "\n",
    "    # Fully connected layer, Output shape: [-1, 10].\n",
    "    out = tf.add(tf.matmul(fc1, weights['out']), biases['out'])\n",
    "    # Apply softmax to normalize the logits to a probability distribution.\n",
    "    return tf.nn.softmax(out)\n",
    "\n",
    "def cross_entropy(y_pred, y_true):\n",
    "    # Encode label to a one hot vector.\n",
    "    y_true = tf.one_hot(y_true, depth=num_classes)\n",
    "    # Clip prediction values to avoid log(0) error.\n",
    "    y_pred = tf.clip_by_value(y_pred, 1e-9, 1.)\n",
    "    # Compute cross-entropy.\n",
    "    return tf.reduce_mean(-tf.reduce_sum(y_true * tf.math.log(y_pred)))\n",
    "\n",
    "# Accuracy metric.\n",
    "def accuracy(y_pred, y_true):\n",
    "    # Predicted class is the index of highest score in prediction vector (i.e. argmax).\n",
    "    correct_prediction = tf.equal(tf.argmax(y_pred, 1), tf.cast(y_true, tf.int64))\n",
    "    return tf.reduce_mean(tf.cast(correct_prediction, tf.float32), axis=-1)"
   ]
  },
  {
   "cell_type": "code",
   "execution_count": 41,
   "metadata": {
    "scrolled": true
   },
   "outputs": [
    {
     "name": "stdout",
     "output_type": "stream",
     "text": [
      "step: 10, loss: 56.204979, accuracy: 0.860000\n",
      "step: 20, loss: 39.494549, accuracy: 0.880000\n",
      "step: 30, loss: 45.609734, accuracy: 0.860000\n",
      "step: 40, loss: 34.077576, accuracy: 0.900000\n",
      "step: 50, loss: 11.486303, accuracy: 0.970000\n",
      "step: 60, loss: 13.615742, accuracy: 0.980000\n",
      "step: 70, loss: 24.743710, accuracy: 0.940000\n",
      "step: 80, loss: 18.097584, accuracy: 0.930000\n",
      "step: 90, loss: 10.342843, accuracy: 0.950000\n",
      "step: 100, loss: 8.409833, accuracy: 0.970000\n",
      "step: 110, loss: 5.030828, accuracy: 0.990000\n",
      "step: 120, loss: 8.587709, accuracy: 0.970000\n",
      "step: 130, loss: 12.211029, accuracy: 0.970000\n",
      "step: 140, loss: 11.351440, accuracy: 0.960000\n",
      "step: 150, loss: 4.960558, accuracy: 1.000000\n",
      "step: 160, loss: 7.976833, accuracy: 0.980000\n",
      "step: 170, loss: 6.689782, accuracy: 0.990000\n",
      "step: 180, loss: 3.766511, accuracy: 0.990000\n",
      "step: 190, loss: 9.504124, accuracy: 0.960000\n",
      "step: 200, loss: 2.279022, accuracy: 1.000000\n"
     ]
    }
   ],
   "source": [
    "Accc = []\n",
    "for step, (batch_x, batch_y) in enumerate(train_data.take(training_steps), 1):\n",
    "    # Run the optimization to update W and b values.\n",
    "    run_optimization(batch_x, batch_y)\n",
    "    pred = conv_net(batch_x)\n",
    "    acc = accuracy(pred, batch_y)\n",
    "    Accc.append(float(acc))\n",
    "    if step % display_step == 0:\n",
    "        #pred = conv_net(batch_x)\n",
    "        loss = cross_entropy(pred, batch_y)\n",
    "        #acc = accuracy(pred, batch_y)\n",
    "        print(\"step: %i, loss: %f, accuracy: %f\" % (step, loss, acc))"
   ]
  },
  {
   "cell_type": "code",
   "execution_count": 42,
   "metadata": {},
   "outputs": [
    {
     "data": {
      "text/plain": [
       "Text(0, 0.5, 'accuracy')"
      ]
     },
     "execution_count": 42,
     "metadata": {},
     "output_type": "execute_result"
    },
    {
     "data": {
      "image/png": "[encoded data removed]",
      "text/plain": [
       "<Figure size 432x288 with 1 Axes>"
      ]
     },
     "metadata": {
      "needs_background": "light"
     },
     "output_type": "display_data"
    }
   ],
   "source": [
    "import matplotlib.pyplot as plt\n",
    "plt.plot(Accc)\n",
    "plt.xlabel('step')\n",
    "plt.ylabel('accuracy')\n"
   ]
  },
  {
   "cell_type": "code",
   "execution_count": 43,
   "metadata": {},
   "outputs": [
    {
     "name": "stdout",
     "output_type": "stream",
     "text": [
      "0.9782999753952026\n"
     ]
    }
   ],
   "source": [
    "pred = conv_net(x_test)\n",
    "loss = cross_entropy(pred,y_test)\n",
    "acc = accuracy(pred, y_test)\n",
    "print(float(acc))"
   ]
  },
  {
   "cell_type": "code",
   "execution_count": null,
   "metadata": {},
   "outputs": [],
   "source": [
    "#CNN + SVM"
   ]
  },
  {
   "cell_type": "code",
   "execution_count": 44,
   "metadata": {},
   "outputs": [],
   "source": [
    "random_normal = tf.initializers.RandomNormal()\n",
    "\n",
    "weights = {\n",
    "    # Conv Layer 1: 5x5 conv, 1 input, 32 filters (MNIST has 1 color channel only).\n",
    "    'wc1': tf.Variable(random_normal([5, 5, 1, conv1_filters])),\n",
    "    # Conv Layer 2: 5x5 conv, 32 inputs, 64 filters.\n",
    "    'wc2': tf.Variable(random_normal([5, 5, conv1_filters, conv2_filters])),\n",
    "    # FC Layer 1: 7*7*64 inputs, 1024 units.\n",
    "    'wd1': tf.Variable(random_normal([7*7*64, fc1_units])),\n",
    "    # FC Out Layer: 1024 inputs, 10 units (total number of classes)\n",
    "   ###'out': tf.Variable(random_normal([fc1_units, num_classes])),\n",
    "    'SVM': tf.Variable(random_normal([fc1_units,num_classes]))\n",
    "}\n",
    "\n",
    "biases = {\n",
    "    'bc1': tf.Variable(tf.zeros([conv1_filters])),\n",
    "    'bc2': tf.Variable(tf.zeros([conv2_filters])),\n",
    "    'bd1': tf.Variable(tf.zeros([fc1_units]))\n",
    "    #'out': tf.Variable(tf.zeros([num_classes])),\n",
    "}"
   ]
  },
  {
   "cell_type": "code",
   "execution_count": 45,
   "metadata": {},
   "outputs": [],
   "source": [
    "def conv_net_2(x):\n",
    "    x = tf.reshape(x, [-1, 28, 28, 1])                                       # Input shape: [-1, 28, 28, 1].\n",
    "    conv1 = conv2d(x, weights['wc1'], biases['bc1'])                         #Output shape: [-1, 28, 28, 32].\n",
    "    conv1 = maxpool2d(conv1, k=2)\n",
    "    conv2 = conv2d(conv1, weights['wc2'], biases['bc2'])\n",
    "    conv2 = maxpool2d(conv2, k=2)\n",
    "    fc1 = tf.reshape(conv2, [-1, weights['wd1'].get_shape().as_list()[0]])   #Output shape: [-1, 7*7*64].\n",
    "    fc1 = tf.add(tf.matmul(fc1, weights['wd1']), biases['bd1'])              #Output shape: [-1, 1024].\n",
    "    fc2 = tf.nn.dropout(fc1, rate = 0.5 )\n",
    "    svm = tf.matmul(fc2, weights['SVM'])\n",
    "    return svm\n",
    "\n",
    "\n",
    "def soft_margin(y_pred, y_true):\n",
    "    regularization_loss = tf.math.reduce_sum(tf.square(weights['SVM'])) \n",
    "    y_true = 2*tf.one_hot(y_true, depth=num_classes)-1                           \n",
    "    hinge_loss = tf.math.reduce_sum(\n",
    "        tf.square(\n",
    "            tf.maximum(\n",
    "                tf.zeros([batch_size, num_classes]), \n",
    "                1 - y_true * y_pred)\n",
    "        )\n",
    "    )\n",
    "    return tf.add(regularization_loss, 2 * hinge_loss)\n",
    " \n",
    "    \n",
    "def accuracy_2(y_pred, y_true):\n",
    "    y_pred = tf.identity(y_pred, name=\"prediction\")\n",
    "    #y_true = tf.one_hot(y_true, depth=num_classes)\n",
    "    correct_prediction = tf.equal(tf.argmax(y_pred, 1),tf.cast(y_true, tf.int64))\n",
    "    return tf.reduce_mean(tf.cast(correct_prediction, tf.float32), axis=-1)\n",
    "\n",
    "def run_optimization_2(x, y):\n",
    "    # Wrap computation inside a GradientTape for automatic differentiation.\n",
    "    with tf.GradientTape() as g:\n",
    "        pred = conv_net_2(x)\n",
    "        loss = soft_margin(pred, y)\n",
    "    trainable_variables = list(weights.values()) + list(biases.values())\n",
    "    gradients = g.gradient(loss, trainable_variables)\n",
    "    optimizer.apply_gradients(zip(gradients, trainable_variables))"
   ]
  },
  {
   "cell_type": "code",
   "execution_count": 46,
   "metadata": {},
   "outputs": [],
   "source": [
    "optimizer = tf.optimizers.Adam(learning_rate)"
   ]
  },
  {
   "cell_type": "code",
   "execution_count": 47,
   "metadata": {},
   "outputs": [
    {
     "name": "stdout",
     "output_type": "stream",
     "text": [
      "step: 10, loss: 777.881226, accuracy: 0.450000\n",
      "step: 20, loss: 408.904968, accuracy: 0.760000\n",
      "step: 30, loss: 260.407227, accuracy: 0.840000\n",
      "step: 40, loss: 226.390503, accuracy: 0.890000\n",
      "step: 50, loss: 155.600464, accuracy: 0.930000\n",
      "step: 60, loss: 91.975952, accuracy: 0.970000\n",
      "step: 70, loss: 139.197327, accuracy: 0.910000\n",
      "step: 80, loss: 119.707985, accuracy: 0.940000\n",
      "step: 90, loss: 78.168526, accuracy: 0.990000\n",
      "step: 100, loss: 128.023788, accuracy: 0.920000\n",
      "step: 110, loss: 116.643806, accuracy: 0.950000\n",
      "step: 120, loss: 143.887405, accuracy: 0.930000\n",
      "step: 130, loss: 102.554192, accuracy: 0.970000\n",
      "step: 140, loss: 85.012497, accuracy: 0.960000\n",
      "step: 150, loss: 84.874001, accuracy: 0.990000\n",
      "step: 160, loss: 91.092850, accuracy: 0.990000\n",
      "step: 170, loss: 68.741562, accuracy: 0.990000\n",
      "step: 180, loss: 60.080868, accuracy: 1.000000\n",
      "step: 190, loss: 62.240276, accuracy: 0.980000\n",
      "step: 200, loss: 73.072891, accuracy: 0.960000\n"
     ]
    }
   ],
   "source": [
    "training_steps = 200\n",
    "learning_rate = 0.01\n",
    "Accc = []\n",
    "for step, (batch_x, batch_y) in enumerate(train_data.take(training_steps), 1):\n",
    "    # Run the optimization to update W and b values.\n",
    "    run_optimization_2(batch_x, batch_y)\n",
    "    pred = conv_net_2(batch_x)\n",
    "    acc = accuracy_2(pred, batch_y)\n",
    "    Accc.append(acc)\n",
    "    if step % 10 == 0:\n",
    "        loss = soft_margin(pred, batch_y)\n",
    "        print(\"step: %i, loss: %f, accuracy: %f\" % (step, loss, acc))"
   ]
  },
  {
   "cell_type": "code",
   "execution_count": 48,
   "metadata": {},
   "outputs": [
    {
     "data": {
      "text/plain": [
       "Text(0, 0.5, 'accuracy')"
      ]
     },
     "execution_count": 48,
     "metadata": {},
     "output_type": "execute_result"
    },
    {
     "data": {
      "image/png": "[encoded data removed]",
      "text/plain": [
       "<Figure size 432x288 with 1 Axes>"
      ]
     },
     "metadata": {
      "needs_background": "light"
     },
     "output_type": "display_data"
    }
   ],
   "source": [
    "plt.plot(Accc)\n",
    "plt.xlabel('step')\n",
    "plt.ylabel('accuracy')"
   ]
  },
  {
   "cell_type": "code",
   "execution_count": 49,
   "metadata": {},
   "outputs": [
    {
     "name": "stdout",
     "output_type": "stream",
     "text": [
      "0.9767000079154968\n"
     ]
    }
   ],
   "source": [
    "pred = conv_net_2(x_test)\n",
    "loss = cross_entropy(pred,y_test)\n",
    "acc = accuracy_2(pred, y_test)\n",
    "print(float(acc))"
   ]
  },
  {
   "cell_type": "code",
   "execution_count": 3,
   "metadata": {},
   "outputs": [],
   "source": [
    "#cifar10    multiple channel\n",
    "from tensorflow.keras.datasets import cifar10"
   ]
  },
  {
   "cell_type": "code",
   "execution_count": 21,
   "metadata": {},
   "outputs": [
    {
     "name": "stdout",
     "output_type": "stream",
     "text": [
      "step: 100, loss: 201.181824, accuracy: 0.484375\n",
      "step: 200, loss: 170.882416, accuracy: 0.539062\n",
      "step: 300, loss: 168.729111, accuracy: 0.507812\n",
      "step: 400, loss: 154.055695, accuracy: 0.554688\n",
      "step: 500, loss: 120.432686, accuracy: 0.625000\n",
      "step: 600, loss: 146.830231, accuracy: 0.585938\n",
      "step: 700, loss: 133.795807, accuracy: 0.656250\n",
      "step: 800, loss: 98.081802, accuracy: 0.703125\n",
      "step: 900, loss: 108.775497, accuracy: 0.703125\n",
      "step: 1000, loss: 104.802124, accuracy: 0.734375\n",
      "step: 1100, loss: 95.233887, accuracy: 0.726562\n",
      "step: 1200, loss: 86.849838, accuracy: 0.734375\n",
      "step: 1300, loss: 89.910553, accuracy: 0.789062\n",
      "step: 1400, loss: 91.884285, accuracy: 0.781250\n",
      "step: 1500, loss: 71.732651, accuracy: 0.835938\n",
      "step: 1600, loss: 62.476662, accuracy: 0.812500\n",
      "step: 1700, loss: 59.007217, accuracy: 0.828125\n",
      "step: 1800, loss: 56.434513, accuracy: 0.882812\n",
      "step: 1900, loss: 44.512283, accuracy: 0.890625\n",
      "step: 2000, loss: 63.103157, accuracy: 0.835938\n",
      "step: 2100, loss: 37.414383, accuracy: 0.914062\n",
      "step: 2200, loss: 25.215096, accuracy: 0.921875\n",
      "step: 2300, loss: 34.500153, accuracy: 0.882812\n",
      "step: 2400, loss: 20.295988, accuracy: 0.968750\n",
      "step: 2500, loss: 21.728649, accuracy: 0.960938\n",
      "step: 2600, loss: 21.091970, accuracy: 0.945312\n",
      "step: 2700, loss: 11.711799, accuracy: 0.968750\n",
      "step: 2800, loss: 16.018562, accuracy: 0.945312\n",
      "step: 2900, loss: 14.528182, accuracy: 0.960938\n",
      "step: 3000, loss: 9.131663, accuracy: 1.000000\n",
      "step: 3100, loss: 8.199706, accuracy: 0.992188\n",
      "step: 3200, loss: 6.028281, accuracy: 0.992188\n",
      "step: 3300, loss: 8.549016, accuracy: 0.976562\n",
      "step: 3400, loss: 4.913698, accuracy: 0.992188\n",
      "step: 3500, loss: 4.106275, accuracy: 1.000000\n",
      "step: 3600, loss: 7.654638, accuracy: 1.000000\n",
      "step: 3700, loss: 7.367434, accuracy: 0.976562\n",
      "step: 3800, loss: 3.979838, accuracy: 0.992188\n",
      "step: 3900, loss: 6.163442, accuracy: 1.000000\n",
      "step: 4000, loss: 5.075662, accuracy: 0.984375\n",
      "step: 4100, loss: 9.328205, accuracy: 0.984375\n",
      "step: 4200, loss: 4.568437, accuracy: 0.992188\n",
      "step: 4300, loss: 2.910743, accuracy: 1.000000\n",
      "step: 4400, loss: 4.135885, accuracy: 0.984375\n",
      "step: 4500, loss: 1.478659, accuracy: 1.000000\n",
      "step: 4600, loss: 2.088343, accuracy: 1.000000\n",
      "step: 4700, loss: 4.522389, accuracy: 0.992188\n",
      "step: 4800, loss: 2.502515, accuracy: 0.992188\n",
      "step: 4900, loss: 1.515914, accuracy: 1.000000\n",
      "step: 5000, loss: 3.853181, accuracy: 0.992188\n"
     ]
    }
   ],
   "source": [
    "num_classes = 10\n",
    "\n",
    "(x_train, y_train), (x_test, y_test) = cifar10.load_data()\n",
    "x_train, x_test = np.array(x_train, np.float32), np.array(x_test, np.float32)\n",
    "x_train, x_test = x_train / 255., x_test / 255.\n",
    "\n",
    "train_data = tf.data.Dataset.from_tensor_slices((x_train, y_train))\n",
    "train_data = train_data.repeat().shuffle(5000).batch(128).prefetch(1)\n",
    "\n",
    "num_classes = 10\n",
    "\n",
    "learning_rate = 0.001\n",
    "training_steps = 5000\n",
    "display_step = 100\n",
    "\n",
    "conv1_filters = 32 # number of filters for 1st conv layer.\n",
    "conv2_filters = 64 # number of filters for 2nd conv layer.\n",
    "fc1_units = 3072 # number of neurons for 1st fully-connected layer.\n",
    "\n",
    "random_normal = tf.initializers.RandomNormal()\n",
    "\n",
    "weights = {\n",
    "    # Conv Layer 1: 5x5 conv, 3 input, 32 filters (It has 3 color channels).\n",
    "    'wc1': tf.Variable(random_normal([5, 5, 3, conv1_filters])),\n",
    "    # Conv Layer 2: 5x5 conv, 32 inputs, 64 filters.\n",
    "    'wc2': tf.Variable(random_normal([5, 5, conv1_filters, conv2_filters])),\n",
    "    # FC Layer 1: 8*8*64 inputs, 3072 units.\n",
    "    'wd1': tf.Variable(random_normal([8*8*64, fc1_units])),\n",
    "    # FC Out Layer: 3072 inputs, 10 units (total number of classes)\n",
    "    'out': tf.Variable(random_normal([fc1_units, num_classes]))\n",
    "}\n",
    "\n",
    "biases = {\n",
    "    'bc1': tf.Variable(tf.zeros([conv1_filters])),\n",
    "    'bc2': tf.Variable(tf.zeros([conv2_filters])),\n",
    "    'bd1': tf.Variable(tf.zeros([fc1_units])),\n",
    "    'out': tf.Variable(tf.zeros([num_classes]))\n",
    "}\n",
    "def conv_net_cifar(x):\n",
    "    x = tf.reshape(x, [-1, 32, 32, 3])                                       # Input shape: [-1, 32, 32, 3].\n",
    "    conv1 = conv2d(x, weights['wc1'], biases['bc1'])                         #Output shape: [-1, 32, 32, 32].\n",
    "    conv1 = maxpool2d(conv1, k=2)                                            #Output shape: [-1, 16, 16, 32].\n",
    "    conv2 = conv2d(conv1, weights['wc2'], biases['bc2'])\n",
    "    conv2 = maxpool2d(conv2, k=2)\n",
    "    fc1 = tf.reshape(conv2, [-1, weights['wd1'].get_shape().as_list()[0]])   #Output shape: [-1, 8*8*64].\n",
    "    fc1 = tf.add(tf.matmul(fc1, weights['wd1']), biases['bd1'])              #Output shape: [-1, 3072].\n",
    "    fc1 = tf.nn.relu(fc1)\n",
    "    fc1 = tf.nn.dropout(fc1, rate = 0.2 )\n",
    "    out = tf.add(tf.matmul(fc1, weights['out']), biases['out']) \n",
    "    return tf.nn.softmax(out)\n",
    "\n",
    "def cross_entropy(y_pred, y_true):\n",
    "    # Encode label to a one hot vector.\n",
    "    y_true = tf.one_hot(y_true, depth=num_classes)\n",
    "    # Clip prediction values to avoid log(0) error.\n",
    "    y_pred = tf.clip_by_value(y_pred, 1e-9, 1.)\n",
    "    # Compute cross-entropy.\n",
    "    return tf.reduce_mean(-tf.reduce_sum(y_true * tf.math.log(y_pred)))\n",
    "\n",
    "# Accuracy metric.\n",
    "def accuracy_3(y_pred, y_true):\n",
    "    # Predicted class is the index of highest score in prediction vector (i.e. argmax).\n",
    "    correct_prediction = tf.equal(tf.argmax(y_pred, 1), tf.cast(y_true, tf.int64))\n",
    "    return tf.reduce_mean(tf.cast(correct_prediction, tf.float32), axis=-1)\n",
    "\n",
    "optimizer = tf.optimizers.Adam(learning_rate=0.001)\n",
    "\n",
    "def run_optimization_3(x, y):\n",
    "    with tf.GradientTape() as g:\n",
    "        pred = conv_net_cifar(x)\n",
    "        loss = cross_entropy(pred, y)\n",
    "    trainable_variables = list(weights.values()) + list(biases.values())\n",
    "    gradients = g.gradient(loss, trainable_variables)\n",
    "    optimizer.apply_gradients(zip(gradients, trainable_variables))\n",
    "\n",
    "Accc = []\n",
    "for step, (batch_x, batch_y) in enumerate(train_data.take(training_steps), 1):\n",
    "    # Run the optimization to update W and b values.\n",
    "    run_optimization_3(batch_x,tf.transpose(batch_y)[0])\n",
    "    \n",
    "    pred = conv_net_cifar(batch_x)\n",
    "    acc = accuracy_3(pred, tf.transpose(batch_y)[0])\n",
    "    Accc.append(float(acc))\n",
    "    \n",
    "    if step % display_step == 0:\n",
    "        \n",
    "        loss = cross_entropy(pred, tf.transpose(batch_y)[0])\n",
    "        #acc = accuracy_3(pred, tf.transpose(batch_y)[0])\n",
    "        #Accc.append(float(acc))\n",
    "        print(\"step: %i, loss: %f, accuracy: %f\" % (step, loss, acc))"
   ]
  },
  {
   "cell_type": "code",
   "execution_count": 25,
   "metadata": {},
   "outputs": [
    {
     "data": {
      "image/png": "[encoded data removed]",
      "text/plain": [
       "<Figure size 432x288 with 1 Axes>"
      ]
     },
     "metadata": {
      "needs_background": "light"
     },
     "output_type": "display_data"
    }
   ],
   "source": [
    "import matplotlib.pyplot as plt\n",
    "plt.plot(Accc)\n",
    "plt.xlabel('step')\n",
    "plt.ylabel('accuracy')\n",
    "plt.savefig('cifar10_CNN_Accuracy.jpg')"
   ]
  },
  {
   "cell_type": "code",
   "execution_count": 26,
   "metadata": {},
   "outputs": [
    {
     "name": "stdout",
     "output_type": "stream",
     "text": [
      "0.6912999749183655\n"
     ]
    }
   ],
   "source": [
    "pred = conv_net_cifar(x_test)\n",
    "loss = cross_entropy(pred, tf.transpose(y_test)[0])\n",
    "acc = accuracy_3(pred, tf.transpose(y_test)[0])\n",
    "print(float(acc))"
   ]
  },
  {
   "cell_type": "markdown",
   "metadata": {},
   "source": [
    "To implement the algorithm that replacing the soft-max layer with a linear support vector machine, we took several steps as following:\n",
    "# 1 \n",
    "We tried two different methods to construct DNN and CNN model. \n",
    "\n",
    "One of them is to use keras api to create a keras model. It is a stable and efficient way to implement neural network. However, there is no SVM model for DNN or CNN in keras and it is impossible for us to replace the softmax layer with the SVM layer. Even we try to define the SVM by ourselves to match the requests, we still fail to obtain the loss and the expression of weights and biases. So, we try the second method[1]: Constructing the NN model by defining each layer, loss function, and optimizer process. \n",
    "\n",
    "In normal CNN model, the last layer is the softmax function and the output is the probability of each class:\n",
    "![](http://latex.codecogs.com/gif.latex?\\\\p_i = \\frac{exp(a_i)}{\\sum_{j}exp(a_j)})\n",
    "and the predicted class \n",
    "![](http://latex.codecogs.com/gif.latex?\\\\hat{i})\n",
    "![](http://latex.codecogs.com/gif.latex?\\\\hat{i} = \\text{arg} \\max p_i)\n",
    "We use cross-entropy loss here.\n",
    "\n",
    "With Support Vector Machines, we delete the softmax layer and output the result from the last layer(Attention: No biases). Then, we define the soft margin loss[2]:\n",
    "![](http://latex.codecogs.com/gif.latex?\\\\min_w w^Tw + C\\sum_{n=1}^{N}\\max(1-w^T x_n y_n,0)^2)\n",
    "Actually, the primal form is L1_SVM with the standard hinge loss. But it is not differetiable so we use L2-SVM instead. \n",
    "\n",
    "To predict the class of data:\n",
    "![](http://latex.codecogs.com/gif.latex?\\\\hat{i} = \\text{arg}_y \\max (w^Tx)y)\n",
    "Here we only use linear SVM. \n",
    "\n",
    "# 2\n",
    "To implement Multiclass SVM, we use one-vs-rest approach. For K class problems, K linear SVMs are trained independently. The output of the k-th SVM is\n",
    "![](http://latex.codecogs.com/gif.latex?\\a_k(x) = w^Tx)\n",
    "and the predicted class is\n",
    "![](http://latex.codecogs.com/gif.latex?\\\\text{arg}_k \\max a_k(x))\n",
    "\n",
    "# 3\n",
    "We also meet the problem that the graph is colorful. In this case, we consider one more parameter in our model, channel. If the data has k color channels,then we need k times parameters at the beginning. Actually, there are no much difference between the black-white data and colorful data. In implement this model for CIFAR-10 dataset."
   ]
  },
  {
   "cell_type": "code",
   "execution_count": null,
   "metadata": {},
   "outputs": [],
   "source": []
  }
 ],
 "metadata": {
  "kernelspec": {
   "display_name": "Python 3",
   "language": "python",
   "name": "python3"
  },
  "language_info": {
   "codemirror_mode": {
    "name": "ipython",
    "version": 3
   },
   "file_extension": ".py",
   "mimetype": "text/x-python",
   "name": "python",
   "nbconvert_exporter": "python",
   "pygments_lexer": "ipython3",
   "version": "3.7.3"
  }
 },
 "nbformat": 4,
 "nbformat_minor": 2
}
